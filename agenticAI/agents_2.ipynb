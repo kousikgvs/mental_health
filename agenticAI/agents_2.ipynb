{
 "cells": [
  {
   "cell_type": "code",
   "execution_count": null,
   "id": "ad52728a",
   "metadata": {},
   "outputs": [
    {
     "name": "stdout",
     "output_type": "stream",
     "text": [
      "Requirement already satisfied: langchain-groq in c:\\users\\kousi\\anaconda3\\lib\\site-packages (1.0.0)\n",
      "Requirement already satisfied: groq<1.0.0,>=0.30.0 in c:\\users\\kousi\\anaconda3\\lib\\site-packages (from langchain-groq) (0.33.0)\n",
      "Requirement already satisfied: langchain-core<2.0.0,>=1.0.0 in c:\\users\\kousi\\anaconda3\\lib\\site-packages (from langchain-groq) (1.0.1)\n",
      "Requirement already satisfied: anyio<5,>=3.5.0 in c:\\users\\kousi\\anaconda3\\lib\\site-packages (from groq<1.0.0,>=0.30.0->langchain-groq) (4.7.0)\n",
      "Requirement already satisfied: distro<2,>=1.7.0 in c:\\users\\kousi\\anaconda3\\lib\\site-packages (from groq<1.0.0,>=0.30.0->langchain-groq) (1.9.0)\n",
      "Requirement already satisfied: httpx<1,>=0.23.0 in c:\\users\\kousi\\anaconda3\\lib\\site-packages (from groq<1.0.0,>=0.30.0->langchain-groq) (0.28.1)\n",
      "Requirement already satisfied: pydantic<3,>=1.9.0 in c:\\users\\kousi\\anaconda3\\lib\\site-packages (from groq<1.0.0,>=0.30.0->langchain-groq) (2.12.3)\n",
      "Requirement already satisfied: sniffio in c:\\users\\kousi\\anaconda3\\lib\\site-packages (from groq<1.0.0,>=0.30.0->langchain-groq) (1.3.0)\n",
      "Requirement already satisfied: typing-extensions<5,>=4.10 in c:\\users\\kousi\\anaconda3\\lib\\site-packages (from groq<1.0.0,>=0.30.0->langchain-groq) (4.15.0)\n",
      "Requirement already satisfied: idna>=2.8 in c:\\users\\kousi\\anaconda3\\lib\\site-packages (from anyio<5,>=3.5.0->groq<1.0.0,>=0.30.0->langchain-groq) (3.7)\n",
      "Requirement already satisfied: certifi in c:\\users\\kousi\\anaconda3\\lib\\site-packages (from httpx<1,>=0.23.0->groq<1.0.0,>=0.30.0->langchain-groq) (2025.10.5)\n",
      "Requirement already satisfied: httpcore==1.* in c:\\users\\kousi\\anaconda3\\lib\\site-packages (from httpx<1,>=0.23.0->groq<1.0.0,>=0.30.0->langchain-groq) (1.0.9)\n",
      "Requirement already satisfied: h11>=0.16 in c:\\users\\kousi\\anaconda3\\lib\\site-packages (from httpcore==1.*->httpx<1,>=0.23.0->groq<1.0.0,>=0.30.0->langchain-groq) (0.16.0)\n",
      "Requirement already satisfied: jsonpatch<2.0.0,>=1.33.0 in c:\\users\\kousi\\anaconda3\\lib\\site-packages (from langchain-core<2.0.0,>=1.0.0->langchain-groq) (1.33)\n",
      "Requirement already satisfied: langsmith<1.0.0,>=0.3.45 in c:\\users\\kousi\\anaconda3\\lib\\site-packages (from langchain-core<2.0.0,>=1.0.0->langchain-groq) (0.4.38)\n",
      "Requirement already satisfied: packaging<26.0.0,>=23.2.0 in c:\\users\\kousi\\anaconda3\\lib\\site-packages (from langchain-core<2.0.0,>=1.0.0->langchain-groq) (24.2)\n",
      "Requirement already satisfied: pyyaml<7.0.0,>=5.3.0 in c:\\users\\kousi\\anaconda3\\lib\\site-packages (from langchain-core<2.0.0,>=1.0.0->langchain-groq) (6.0.2)\n",
      "Requirement already satisfied: tenacity!=8.4.0,<10.0.0,>=8.1.0 in c:\\users\\kousi\\anaconda3\\lib\\site-packages (from langchain-core<2.0.0,>=1.0.0->langchain-groq) (9.0.0)\n",
      "Requirement already satisfied: jsonpointer>=1.9 in c:\\users\\kousi\\anaconda3\\lib\\site-packages (from jsonpatch<2.0.0,>=1.33.0->langchain-core<2.0.0,>=1.0.0->langchain-groq) (2.1)\n",
      "Requirement already satisfied: orjson>=3.9.14 in c:\\users\\kousi\\anaconda3\\lib\\site-packages (from langsmith<1.0.0,>=0.3.45->langchain-core<2.0.0,>=1.0.0->langchain-groq) (3.11.3)\n",
      "Requirement already satisfied: requests-toolbelt>=1.0.0 in c:\\users\\kousi\\anaconda3\\lib\\site-packages (from langsmith<1.0.0,>=0.3.45->langchain-core<2.0.0,>=1.0.0->langchain-groq) (1.0.0)\n",
      "Requirement already satisfied: requests>=2.0.0 in c:\\users\\kousi\\anaconda3\\lib\\site-packages (from langsmith<1.0.0,>=0.3.45->langchain-core<2.0.0,>=1.0.0->langchain-groq) (2.32.5)\n",
      "Requirement already satisfied: zstandard>=0.23.0 in c:\\users\\kousi\\anaconda3\\lib\\site-packages (from langsmith<1.0.0,>=0.3.45->langchain-core<2.0.0,>=1.0.0->langchain-groq) (0.23.0)\n",
      "Requirement already satisfied: annotated-types>=0.6.0 in c:\\users\\kousi\\anaconda3\\lib\\site-packages (from pydantic<3,>=1.9.0->groq<1.0.0,>=0.30.0->langchain-groq) (0.6.0)\n",
      "Requirement already satisfied: pydantic-core==2.41.4 in c:\\users\\kousi\\anaconda3\\lib\\site-packages (from pydantic<3,>=1.9.0->groq<1.0.0,>=0.30.0->langchain-groq) (2.41.4)\n",
      "Requirement already satisfied: typing-inspection>=0.4.2 in c:\\users\\kousi\\anaconda3\\lib\\site-packages (from pydantic<3,>=1.9.0->groq<1.0.0,>=0.30.0->langchain-groq) (0.4.2)\n",
      "Requirement already satisfied: charset_normalizer<4,>=2 in c:\\users\\kousi\\anaconda3\\lib\\site-packages (from requests>=2.0.0->langsmith<1.0.0,>=0.3.45->langchain-core<2.0.0,>=1.0.0->langchain-groq) (3.3.2)\n",
      "Requirement already satisfied: urllib3<3,>=1.21.1 in c:\\users\\kousi\\anaconda3\\lib\\site-packages (from requests>=2.0.0->langsmith<1.0.0,>=0.3.45->langchain-core<2.0.0,>=1.0.0->langchain-groq) (2.3.0)\n"
     ]
    }
   ],
   "source": [
    "!pip install langchain-groq\n",
    "!pip install --upgrade -U langchain-core langchain-groq langchain_groq langchain"
   ]
  },
  {
   "cell_type": "code",
   "execution_count": null,
   "id": "deb9c9a2",
   "metadata": {},
   "outputs": [],
   "source": [
    "from langchain_groq import ChatGroq\n",
    "\n",
    "from dotenv import load_dotenv\n",
    "import os\n",
    "load_dotenv()\n",
    "groq_api_key = os.getenv(\"groq_api_key\")\n",
    "llm = ChatGroq(model_name=\"llama-3.1-8b-instant\", api_key=groq_api_key)"
   ]
  },
  {
   "cell_type": "markdown",
   "id": "5db983e7",
   "metadata": {},
   "source": [
    "Importing all the Libraries"
   ]
  },
  {
   "cell_type": "code",
   "execution_count": null,
   "id": "22baa57b",
   "metadata": {},
   "outputs": [],
   "source": [
    "from pydantic import BaseModel\n",
    "from langchain_core.output_parsers import StrOutputParser\n",
    "from langchain_core.prompts import SystemMessagePromptTemplate, HumanMessagePromptTemplate, ChatPromptTemplate\n",
    "from langgraph.graph import StateGraph, START, END"
   ]
  },
  {
   "cell_type": "markdown",
   "id": "11dd19e6",
   "metadata": {},
   "source": [
    "Defining the State Object"
   ]
  },
  {
   "cell_type": "code",
   "execution_count": null,
   "id": "76c04097",
   "metadata": {},
   "outputs": [],
   "source": [
    "class State(BaseModel):\n",
    "    input: str\n",
    "    route: str | None = None\n",
    "    output: str | None = None"
   ]
  },
  {
   "cell_type": "markdown",
   "id": "bdd2edff",
   "metadata": {},
   "source": [
    "Defining the State Graph"
   ]
  },
  {
   "cell_type": "code",
   "execution_count": null,
   "id": "77f953a9",
   "metadata": {},
   "outputs": [],
   "source": [
    "graph = StateGraph(State)"
   ]
  },
  {
   "cell_type": "code",
   "execution_count": null,
   "id": "7b1e0235",
   "metadata": {},
   "outputs": [
    {
     "data": {
      "text/plain": [
       "\"Managing anxiety and stress is crucial for maintaining overall well-being. Here are some effective strategies for managing anxiety and stress in daily life:\\n\\n1. **Deep Breathing Exercises**: Practice deep, slow breaths to calm your mind and body. You can inhale for a count of four, hold for a count of seven, and exhale for a count of eight.\\n2. **Mindfulness Meditation**: Focus on the present moment, without judgment. You can use apps like Headspace or Calm to guide you.\\n3. **Physical Activity**: Regular exercise, such as walking, running, or yoga, can help reduce anxiety and stress.\\n4. **Grounding Techniques**: Use your senses to ground yourself in the present moment. For example, notice the sensation of your feet on the ground, the sounds around you, or the sensation of the air on your skin.\\n5. **Journaling**: Write down your thoughts and feelings to process and release them.\\n6. **Connect with Nature**: Spend time outdoors, whether it's walking, hiking, or simply sitting in a park or garden.\\n7. **Healthy Sleep Habits**: Establish a consistent sleep schedule, avoid screens before bedtime, and create a relaxing sleep environment.\\n8. **Social Support**: Build a support network of friends, family, or a therapist to talk to and lean on.\\n9. **Self-Care**: Prioritize activities that bring you joy and relaxation, such as reading, listening to music, or taking a bath.\\n10. **Cognitive-Behavioral Therapy (CBT)**: Learn to reframe negative thoughts and behaviors to manage anxiety and stress.\\n11. **Progressive Muscle Relaxation**: Tense and then relax different muscle groups in your body to release physical tension.\\n12. **Prioritize Tasks**: Break down large tasks into smaller, manageable chunks to reduce feelings of overwhelm.\\n13. **Practice Self-Compassion**: Treat yourself with kindness and understanding, just as you would a close friend.\\n14. **Try Aromatherapy**: Inhale essential oils like lavender or chamomile to promote relaxation.\\n15. **Limit Technology Use**: Set boundaries around your screen time to avoid overstimulation and reduce stress.\\n\\nRemember, everyone is unique, and what works for one person may not work for another. Experiment with different strategies to find what works best for you.\\n\\nIf you're struggling with anxiety or stress, consider reaching out to a mental health professional for personalized guidance and support.\""
      ]
     },
     "execution_count": 55,
     "metadata": {},
     "output_type": "execute_result"
    }
   ],
   "source": [
    "from langchain_core.output_parsers import StrOutputParser\n",
    "\n",
    "system_prompt = \"\"\"\n",
    "You are a helpful assistant that can answer questions about Mental Health.\n",
    "\"\"\"\n",
    "\n",
    "user_question = \"What are some effective strategies for managing anxiety and stress in daily life?\"\n",
    "\n",
    "human_prompt = f\"\"\"\n",
    "{user_question}\n",
    "\"\"\"\n",
    "\n",
    "from langchain_core.prompts import ChatPromptTemplate , SystemMessagePromptTemplate , HumanMessagePromptTemplate\n",
    "\n",
    "system_message_prompt = SystemMessagePromptTemplate.from_template(system_prompt)\n",
    "\n",
    "human_message_prompt = HumanMessagePromptTemplate.from_template(human_prompt)\n",
    "\n",
    "prompt = ChatPromptTemplate.from_messages([system_message_prompt , human_message_prompt])\n",
    "\n",
    "chain = prompt | llm | StrOutputParser()\n",
    "\n",
    "chain.invoke({\"user_question\":user_question})"
   ]
  },
  {
   "cell_type": "code",
   "execution_count": null,
   "id": "a19d5aca",
   "metadata": {},
   "outputs": [],
   "source": [
    "def router_agent(state: State) -> State:\n",
    "    system_prompt = (\n",
    "        \"You are a helpful assistant. Based on the user's input, \"\n",
    "        \"decide whether to route the request to a TECH agent or a CASUAL agent. \"\n",
    "        \"If the input is technical in nature, respond with 'TECH', otherwise respond with 'CASUAL'.\"\n",
    "    )\n",
    "\n",
    "    user_prompt = state.input\n",
    "\n",
    "    # Create chat prompt\n",
    "    system_template = SystemMessagePromptTemplate.from_template(\"{system_prompt}\")\n",
    "    user_template = HumanMessagePromptTemplate.from_template(\"{user_prompt}\")\n",
    "    final_template = ChatPromptTemplate.from_messages([system_template, user_template])\n",
    "\n",
    "    # Call LLM\n",
    "    chain = final_template | llm | StrOutputParser()\n",
    "    result = chain.invoke({\"system_prompt\": system_prompt, \"user_prompt\": user_prompt})\n",
    "\n",
    "    route = \"tech_agent\" if \"TECH\" in result.upper() else \"casual_agent\"\n",
    "    return State(input=state.input, route=route, output=None)\n",
    "\n",
    "# ----- Conditional Routing -----\n",
    "def route_next(state: State):\n",
    "    return state.route  # Must return the node name as string"
   ]
  },
  {
   "cell_type": "code",
   "execution_count": null,
   "id": "205d4573",
   "metadata": {},
   "outputs": [],
   "source": [
    "def tech_agent(state: State) -> State:\n",
    "    return State(input=state.input, route=state.route, output=\"Output from TECH agent\")"
   ]
  },
  {
   "cell_type": "code",
   "execution_count": null,
   "id": "8419d317",
   "metadata": {},
   "outputs": [],
   "source": [
    "def casual_agent(state: State) -> State:\n",
    "    return State(input=state.input, route=state.route, output=\"Output from CASUAL agent\")"
   ]
  },
  {
   "cell_type": "code",
   "execution_count": null,
   "id": "9cf257db",
   "metadata": {},
   "outputs": [],
   "source": [
    "def route_next(state: State):\n",
    "    return state.route  # Must return the node name as string"
   ]
  },
  {
   "cell_type": "code",
   "execution_count": null,
   "id": "dcedb335",
   "metadata": {},
   "outputs": [
    {
     "data": {
      "text/plain": [
       "<langgraph.graph.state.StateGraph at 0x263a0b58640>"
      ]
     },
     "execution_count": 60,
     "metadata": {},
     "output_type": "execute_result"
    }
   ],
   "source": [
    "graph.add_node(\"router_agent\", router_agent)\n",
    "graph.add_node(\"tech_agent\", tech_agent)\n",
    "graph.add_node(\"casual_agent\", casual_agent)\n",
    "\n",
    "# Add conditional edge from router_agent\n",
    "graph.add_conditional_edges(\n",
    "    \"router_agent\",\n",
    "    route_next,\n",
    "    {\n",
    "        \"tech_agent\": \"tech_agent\",\n",
    "        \"casual_agent\": \"casual_agent\"\n",
    "    }\n",
    ")\n",
    "\n",
    "# Add end edges\n",
    "graph.add_edge(\"tech_agent\", END)\n",
    "graph.add_edge(\"casual_agent\", END)\n",
    "\n",
    "# Set entry point\n",
    "graph.set_entry_point(\"router_agent\")"
   ]
  },
  {
   "cell_type": "code",
   "execution_count": null,
   "id": "9f89fa7d",
   "metadata": {},
   "outputs": [],
   "source": [
    "multi_agent_graph = graph.compile()"
   ]
  },
  {
   "cell_type": "code",
   "execution_count": null,
   "id": "62750351",
   "metadata": {},
   "outputs": [
    {
     "data": {
      "image/png": "[encoded data removed]",
      "text/plain": [
       "<langgraph.graph.state.CompiledStateGraph object at 0x00000263A0B583E0>"
      ]
     },
     "execution_count": 62,
     "metadata": {},
     "output_type": "execute_result"
    }
   ],
   "source": [
    "multi_agent_graph"
   ]
  },
  {
   "cell_type": "code",
   "execution_count": null,
   "id": "18052fe0",
   "metadata": {},
   "outputs": [
    {
     "name": "stdout",
     "output_type": "stream",
     "text": [
      "{'input': 'Explain how to use Python decorators.', 'route': 'tech_agent', 'output': 'Output from TECH agent'}\n"
     ]
    }
   ],
   "source": [
    "def chat(user_input: str) -> State:\n",
    "    initial_state = State(input=user_input)\n",
    "    result = multi_agent_graph.invoke(initial_state)\n",
    "    return result\n",
    "\n",
    "prompt_here = \"Explain how to use Python decorators.\"\n",
    "response_state = chat(prompt_here)\n",
    "print(response_state)"
   ]
  },
  {
   "cell_type": "code",
   "execution_count": null,
   "id": "405daf19",
   "metadata": {},
   "outputs": [],
   "source": []
  },
  {
   "cell_type": "code",
   "execution_count": null,
   "id": "6df69712",
   "metadata": {},
   "outputs": [],
   "source": []
  }
 ],
 "metadata": {
  "kernelspec": {
   "display_name": "base",
   "language": "python",
   "name": "python3"
  },
  "language_info": {
   "codemirror_mode": {
    "name": "ipython",
    "version": 3
   },
   "file_extension": ".py",
   "mimetype": "text/x-python",
   "name": "python",
   "nbconvert_exporter": "python",
   "pygments_lexer": "ipython3",
   "version": "3.13.5"
  }
 },
 "nbformat": 4,
 "nbformat_minor": 5
}
