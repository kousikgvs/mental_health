{
 "cells": [
  {
   "cell_type": "code",
   "execution_count": 1,
   "id": "ad52728a",
   "metadata": {},
   "outputs": [
    {
     "name": "stdout",
     "output_type": "stream",
     "text": [
      "Requirement already satisfied: langchain-groq in c:\\users\\kousi\\anaconda3\\lib\\site-packages (1.0.0)\n",
      "Requirement already satisfied: groq<1.0.0,>=0.30.0 in c:\\users\\kousi\\anaconda3\\lib\\site-packages (from langchain-groq) (0.33.0)\n",
      "Requirement already satisfied: langchain-core<2.0.0,>=1.0.0 in c:\\users\\kousi\\anaconda3\\lib\\site-packages (from langchain-groq) (1.0.1)\n",
      "Requirement already satisfied: anyio<5,>=3.5.0 in c:\\users\\kousi\\anaconda3\\lib\\site-packages (from groq<1.0.0,>=0.30.0->langchain-groq) (4.7.0)\n",
      "Requirement already satisfied: distro<2,>=1.7.0 in c:\\users\\kousi\\anaconda3\\lib\\site-packages (from groq<1.0.0,>=0.30.0->langchain-groq) (1.9.0)\n",
      "Requirement already satisfied: httpx<1,>=0.23.0 in c:\\users\\kousi\\anaconda3\\lib\\site-packages (from groq<1.0.0,>=0.30.0->langchain-groq) (0.28.1)\n",
      "Requirement already satisfied: pydantic<3,>=1.9.0 in c:\\users\\kousi\\anaconda3\\lib\\site-packages (from groq<1.0.0,>=0.30.0->langchain-groq) (2.12.3)\n",
      "Requirement already satisfied: sniffio in c:\\users\\kousi\\anaconda3\\lib\\site-packages (from groq<1.0.0,>=0.30.0->langchain-groq) (1.3.0)\n",
      "Requirement already satisfied: typing-extensions<5,>=4.10 in c:\\users\\kousi\\anaconda3\\lib\\site-packages (from groq<1.0.0,>=0.30.0->langchain-groq) (4.15.0)\n",
      "Requirement already satisfied: idna>=2.8 in c:\\users\\kousi\\anaconda3\\lib\\site-packages (from anyio<5,>=3.5.0->groq<1.0.0,>=0.30.0->langchain-groq) (3.7)\n",
      "Requirement already satisfied: certifi in c:\\users\\kousi\\anaconda3\\lib\\site-packages (from httpx<1,>=0.23.0->groq<1.0.0,>=0.30.0->langchain-groq) (2025.10.5)\n",
      "Requirement already satisfied: httpcore==1.* in c:\\users\\kousi\\anaconda3\\lib\\site-packages (from httpx<1,>=0.23.0->groq<1.0.0,>=0.30.0->langchain-groq) (1.0.9)\n",
      "Requirement already satisfied: h11>=0.16 in c:\\users\\kousi\\anaconda3\\lib\\site-packages (from httpcore==1.*->httpx<1,>=0.23.0->groq<1.0.0,>=0.30.0->langchain-groq) (0.16.0)\n",
      "Requirement already satisfied: jsonpatch<2.0.0,>=1.33.0 in c:\\users\\kousi\\anaconda3\\lib\\site-packages (from langchain-core<2.0.0,>=1.0.0->langchain-groq) (1.33)\n",
      "Requirement already satisfied: langsmith<1.0.0,>=0.3.45 in c:\\users\\kousi\\anaconda3\\lib\\site-packages (from langchain-core<2.0.0,>=1.0.0->langchain-groq) (0.4.38)\n",
      "Requirement already satisfied: packaging<26.0.0,>=23.2.0 in c:\\users\\kousi\\anaconda3\\lib\\site-packages (from langchain-core<2.0.0,>=1.0.0->langchain-groq) (24.2)\n",
      "Requirement already satisfied: pyyaml<7.0.0,>=5.3.0 in c:\\users\\kousi\\anaconda3\\lib\\site-packages (from langchain-core<2.0.0,>=1.0.0->langchain-groq) (6.0.2)\n",
      "Requirement already satisfied: tenacity!=8.4.0,<10.0.0,>=8.1.0 in c:\\users\\kousi\\anaconda3\\lib\\site-packages (from langchain-core<2.0.0,>=1.0.0->langchain-groq) (9.0.0)\n",
      "Requirement already satisfied: jsonpointer>=1.9 in c:\\users\\kousi\\anaconda3\\lib\\site-packages (from jsonpatch<2.0.0,>=1.33.0->langchain-core<2.0.0,>=1.0.0->langchain-groq) (2.1)\n",
      "Requirement already satisfied: orjson>=3.9.14 in c:\\users\\kousi\\anaconda3\\lib\\site-packages (from langsmith<1.0.0,>=0.3.45->langchain-core<2.0.0,>=1.0.0->langchain-groq) (3.11.3)\n",
      "Requirement already satisfied: requests-toolbelt>=1.0.0 in c:\\users\\kousi\\anaconda3\\lib\\site-packages (from langsmith<1.0.0,>=0.3.45->langchain-core<2.0.0,>=1.0.0->langchain-groq) (1.0.0)\n",
      "Requirement already satisfied: requests>=2.0.0 in c:\\users\\kousi\\anaconda3\\lib\\site-packages (from langsmith<1.0.0,>=0.3.45->langchain-core<2.0.0,>=1.0.0->langchain-groq) (2.32.5)\n",
      "Requirement already satisfied: zstandard>=0.23.0 in c:\\users\\kousi\\anaconda3\\lib\\site-packages (from langsmith<1.0.0,>=0.3.45->langchain-core<2.0.0,>=1.0.0->langchain-groq) (0.23.0)\n",
      "Requirement already satisfied: annotated-types>=0.6.0 in c:\\users\\kousi\\anaconda3\\lib\\site-packages (from pydantic<3,>=1.9.0->groq<1.0.0,>=0.30.0->langchain-groq) (0.6.0)\n",
      "Requirement already satisfied: pydantic-core==2.41.4 in c:\\users\\kousi\\anaconda3\\lib\\site-packages (from pydantic<3,>=1.9.0->groq<1.0.0,>=0.30.0->langchain-groq) (2.41.4)\n",
      "Requirement already satisfied: typing-inspection>=0.4.2 in c:\\users\\kousi\\anaconda3\\lib\\site-packages (from pydantic<3,>=1.9.0->groq<1.0.0,>=0.30.0->langchain-groq) (0.4.2)\n",
      "Requirement already satisfied: charset_normalizer<4,>=2 in c:\\users\\kousi\\anaconda3\\lib\\site-packages (from requests>=2.0.0->langsmith<1.0.0,>=0.3.45->langchain-core<2.0.0,>=1.0.0->langchain-groq) (3.3.2)\n",
      "Requirement already satisfied: urllib3<3,>=1.21.1 in c:\\users\\kousi\\anaconda3\\lib\\site-packages (from requests>=2.0.0->langsmith<1.0.0,>=0.3.45->langchain-core<2.0.0,>=1.0.0->langchain-groq) (2.3.0)\n",
      "Requirement already satisfied: langchain-core in c:\\users\\kousi\\anaconda3\\lib\\site-packages (1.0.1)\n",
      "Requirement already satisfied: langchain-groq in c:\\users\\kousi\\anaconda3\\lib\\site-packages (1.0.0)\n",
      "Requirement already satisfied: langchain in c:\\users\\kousi\\anaconda3\\lib\\site-packages (1.0.2)\n",
      "Requirement already satisfied: jsonpatch<2.0.0,>=1.33.0 in c:\\users\\kousi\\anaconda3\\lib\\site-packages (from langchain-core) (1.33)\n",
      "Requirement already satisfied: langsmith<1.0.0,>=0.3.45 in c:\\users\\kousi\\anaconda3\\lib\\site-packages (from langchain-core) (0.4.38)\n",
      "Requirement already satisfied: packaging<26.0.0,>=23.2.0 in c:\\users\\kousi\\anaconda3\\lib\\site-packages (from langchain-core) (24.2)\n",
      "Requirement already satisfied: pydantic<3.0.0,>=2.7.4 in c:\\users\\kousi\\anaconda3\\lib\\site-packages (from langchain-core) (2.12.3)\n",
      "Requirement already satisfied: pyyaml<7.0.0,>=5.3.0 in c:\\users\\kousi\\anaconda3\\lib\\site-packages (from langchain-core) (6.0.2)\n",
      "Requirement already satisfied: tenacity!=8.4.0,<10.0.0,>=8.1.0 in c:\\users\\kousi\\anaconda3\\lib\\site-packages (from langchain-core) (9.0.0)\n",
      "Requirement already satisfied: typing-extensions<5.0.0,>=4.7.0 in c:\\users\\kousi\\anaconda3\\lib\\site-packages (from langchain-core) (4.15.0)\n",
      "Requirement already satisfied: jsonpointer>=1.9 in c:\\users\\kousi\\anaconda3\\lib\\site-packages (from jsonpatch<2.0.0,>=1.33.0->langchain-core) (2.1)\n",
      "Requirement already satisfied: httpx<1,>=0.23.0 in c:\\users\\kousi\\anaconda3\\lib\\site-packages (from langsmith<1.0.0,>=0.3.45->langchain-core) (0.28.1)\n",
      "Requirement already satisfied: orjson>=3.9.14 in c:\\users\\kousi\\anaconda3\\lib\\site-packages (from langsmith<1.0.0,>=0.3.45->langchain-core) (3.11.3)\n",
      "Requirement already satisfied: requests-toolbelt>=1.0.0 in c:\\users\\kousi\\anaconda3\\lib\\site-packages (from langsmith<1.0.0,>=0.3.45->langchain-core) (1.0.0)\n",
      "Requirement already satisfied: requests>=2.0.0 in c:\\users\\kousi\\anaconda3\\lib\\site-packages (from langsmith<1.0.0,>=0.3.45->langchain-core) (2.32.5)\n",
      "Requirement already satisfied: zstandard>=0.23.0 in c:\\users\\kousi\\anaconda3\\lib\\site-packages (from langsmith<1.0.0,>=0.3.45->langchain-core) (0.23.0)\n",
      "Requirement already satisfied: anyio in c:\\users\\kousi\\anaconda3\\lib\\site-packages (from httpx<1,>=0.23.0->langsmith<1.0.0,>=0.3.45->langchain-core) (4.7.0)\n",
      "Requirement already satisfied: certifi in c:\\users\\kousi\\anaconda3\\lib\\site-packages (from httpx<1,>=0.23.0->langsmith<1.0.0,>=0.3.45->langchain-core) (2025.10.5)\n",
      "Requirement already satisfied: httpcore==1.* in c:\\users\\kousi\\anaconda3\\lib\\site-packages (from httpx<1,>=0.23.0->langsmith<1.0.0,>=0.3.45->langchain-core) (1.0.9)\n",
      "Requirement already satisfied: idna in c:\\users\\kousi\\anaconda3\\lib\\site-packages (from httpx<1,>=0.23.0->langsmith<1.0.0,>=0.3.45->langchain-core) (3.7)\n",
      "Requirement already satisfied: h11>=0.16 in c:\\users\\kousi\\anaconda3\\lib\\site-packages (from httpcore==1.*->httpx<1,>=0.23.0->langsmith<1.0.0,>=0.3.45->langchain-core) (0.16.0)\n",
      "Requirement already satisfied: annotated-types>=0.6.0 in c:\\users\\kousi\\anaconda3\\lib\\site-packages (from pydantic<3.0.0,>=2.7.4->langchain-core) (0.6.0)\n",
      "Requirement already satisfied: pydantic-core==2.41.4 in c:\\users\\kousi\\anaconda3\\lib\\site-packages (from pydantic<3.0.0,>=2.7.4->langchain-core) (2.41.4)\n",
      "Requirement already satisfied: typing-inspection>=0.4.2 in c:\\users\\kousi\\anaconda3\\lib\\site-packages (from pydantic<3.0.0,>=2.7.4->langchain-core) (0.4.2)\n",
      "Requirement already satisfied: groq<1.0.0,>=0.30.0 in c:\\users\\kousi\\anaconda3\\lib\\site-packages (from langchain-groq) (0.33.0)\n",
      "Requirement already satisfied: distro<2,>=1.7.0 in c:\\users\\kousi\\anaconda3\\lib\\site-packages (from groq<1.0.0,>=0.30.0->langchain-groq) (1.9.0)\n",
      "Requirement already satisfied: sniffio in c:\\users\\kousi\\anaconda3\\lib\\site-packages (from groq<1.0.0,>=0.30.0->langchain-groq) (1.3.0)\n",
      "Requirement already satisfied: langgraph<1.1.0,>=1.0.0 in c:\\users\\kousi\\anaconda3\\lib\\site-packages (from langchain) (1.0.1)\n",
      "Requirement already satisfied: langgraph-checkpoint<4.0.0,>=2.1.0 in c:\\users\\kousi\\anaconda3\\lib\\site-packages (from langgraph<1.1.0,>=1.0.0->langchain) (3.0.0)\n",
      "Requirement already satisfied: langgraph-prebuilt<1.1.0,>=1.0.0 in c:\\users\\kousi\\anaconda3\\lib\\site-packages (from langgraph<1.1.0,>=1.0.0->langchain) (1.0.1)\n",
      "Requirement already satisfied: langgraph-sdk<0.3.0,>=0.2.2 in c:\\users\\kousi\\anaconda3\\lib\\site-packages (from langgraph<1.1.0,>=1.0.0->langchain) (0.2.9)\n",
      "Requirement already satisfied: xxhash>=3.5.0 in c:\\users\\kousi\\anaconda3\\lib\\site-packages (from langgraph<1.1.0,>=1.0.0->langchain) (3.6.0)\n",
      "Requirement already satisfied: ormsgpack>=1.10.0 in c:\\users\\kousi\\anaconda3\\lib\\site-packages (from langgraph-checkpoint<4.0.0,>=2.1.0->langgraph<1.1.0,>=1.0.0->langchain) (1.11.0)\n",
      "Requirement already satisfied: charset_normalizer<4,>=2 in c:\\users\\kousi\\anaconda3\\lib\\site-packages (from requests>=2.0.0->langsmith<1.0.0,>=0.3.45->langchain-core) (3.3.2)\n",
      "Requirement already satisfied: urllib3<3,>=1.21.1 in c:\\users\\kousi\\anaconda3\\lib\\site-packages (from requests>=2.0.0->langsmith<1.0.0,>=0.3.45->langchain-core) (2.3.0)\n"
     ]
    }
   ],
   "source": [
    "!pip install langchain-groq\n",
    "!pip install --upgrade -U langchain-core langchain-groq langchain_groq langchain"
   ]
  },
  {
   "cell_type": "code",
   "execution_count": 2,
   "id": "deb9c9a2",
   "metadata": {},
   "outputs": [],
   "source": [
    "from langchain_groq import ChatGroq\n",
    "\n",
    "from dotenv import load_dotenv\n",
    "import os\n",
    "load_dotenv()\n",
    "groq_api_key = os.getenv(\"groq_api_key\")\n",
    "llm = ChatGroq(model_name=\"llama-3.1-8b-instant\", api_key=groq_api_key)"
   ]
  },
  {
   "cell_type": "markdown",
   "id": "5db983e7",
   "metadata": {},
   "source": [
    "Importing all the Libraries"
   ]
  },
  {
   "cell_type": "code",
   "execution_count": 3,
   "id": "22baa57b",
   "metadata": {},
   "outputs": [],
   "source": [
    "from pydantic import BaseModel\n",
    "from langchain_core.output_parsers import StrOutputParser\n",
    "from langchain_core.prompts import SystemMessagePromptTemplate, HumanMessagePromptTemplate, ChatPromptTemplate\n",
    "from langgraph.graph import StateGraph, START, END"
   ]
  },
  {
   "cell_type": "markdown",
   "id": "11dd19e6",
   "metadata": {},
   "source": [
    "Defining the State Object"
   ]
  },
  {
   "cell_type": "code",
   "execution_count": 4,
   "id": "76c04097",
   "metadata": {},
   "outputs": [],
   "source": [
    "class State(BaseModel):\n",
    "    input: str\n",
    "    route: str | None = None\n",
    "    output: str | None = None"
   ]
  },
  {
   "cell_type": "markdown",
   "id": "bdd2edff",
   "metadata": {},
   "source": [
    "Defining the State Graph"
   ]
  },
  {
   "cell_type": "code",
   "execution_count": 5,
   "id": "77f953a9",
   "metadata": {},
   "outputs": [],
   "source": [
    "graph = StateGraph(State)"
   ]
  },
  {
   "cell_type": "code",
   "execution_count": 6,
   "id": "7b1e0235",
   "metadata": {},
   "outputs": [
    {
     "data": {
      "text/plain": [
       "\"Managing anxiety and stress is crucial for maintaining overall well-being. Here are some effective strategies for managing anxiety and stress in daily life:\\n\\n1. **Mindfulness and Meditation**: Practice mindfulness meditation, deep breathing exercises, or yoga to calm your mind and body. Regular mindfulness practice can help reduce anxiety and stress levels.\\n\\n2. **Exercise and Physical Activity**: Engage in regular physical activity, such as walking, running, swimming, or any other exercise that you enjoy. Exercise releases endorphins, which can help reduce anxiety and stress.\\n\\n3. **Time Management**: Prioritize tasks, set realistic goals, and take regular breaks to avoid feeling overwhelmed. Use a planner, calendar, or app to stay organized and manage your time effectively.\\n\\n4. **Grounding Techniques**: Practice grounding techniques, such as focusing on your five senses (sight, sound, touch, taste, and smell), to bring yourself back to the present moment and reduce anxiety.\\n\\n5. **Connect with Nature**: Spend time in nature, whether it's walking in a park, hiking, or simply sitting in a garden or on a balcony with plants. Being in nature can help reduce stress and anxiety.\\n\\n6. **Social Support**: Build a support network of friends, family, or a therapist who can offer emotional support, listen to your concerns, and help you develop coping strategies.\\n\\n7. **Self-Care**: Prioritize self-care activities, such as getting enough sleep, eating a healthy diet, and engaging in activities that bring you joy and relaxation, such as reading, listening to music, or taking a bath.\\n\\n8. **Journaling**: Write down your thoughts, feelings, and experiences in a journal to process and release emotions, identify patterns and triggers, and gain insight into your mental health.\\n\\n9. **Seek Professional Help**: If anxiety and stress are impacting your daily life, consider seeking help from a mental health professional, such as a therapist or counselor, who can provide personalized guidance and support.\\n\\n10. **Learn to Say No**: Set healthy boundaries by learning to say no to commitments that may cause unnecessary stress or anxiety.\\n\\n11. **Practice Self-Compassion**: Treat yourself with kindness, understanding, and patience, just as you would a close friend. Acknowledge your strengths and weaknesses, and be gentle with yourself when faced with challenges.\\n\\n12. **Get Enough Sleep**: Aim for 7-9 hours of sleep each night to help regulate your mood, reduce anxiety, and improve cognitive function.\\n\\n13. **Healthy Eating Habits**: Focus on consuming a balanced diet rich in fruits, vegetables, whole grains, and lean proteins to support mental health and well-being.\\n\\n14. **Limit Technology Use**: Establish a healthy balance between technology use and downtime to avoid excessive exposure to screens, social media, and other stressors.\\n\\n15. **Seek Professional Help for Trauma**: If you've experienced trauma, consider seeking help from a mental health professional who specializes in trauma-informed care.\\n\\nRemember, everyone's experience with anxiety and stress is unique, and it may take some experimentation to find the strategies that work best for you. Be patient, kind, and compassionate with yourself as you explore these techniques.\""
      ]
     },
     "execution_count": 6,
     "metadata": {},
     "output_type": "execute_result"
    }
   ],
   "source": [
    "from langchain_core.output_parsers import StrOutputParser\n",
    "\n",
    "system_prompt = \"\"\"\n",
    "You are a helpful assistant that can answer questions about Mental Health.\n",
    "\"\"\"\n",
    "\n",
    "user_question = \"What are some effective strategies for managing anxiety and stress in daily life?\"\n",
    "\n",
    "human_prompt = f\"\"\"\n",
    "{user_question}\n",
    "\"\"\"\n",
    "\n",
    "from langchain_core.prompts import ChatPromptTemplate , SystemMessagePromptTemplate , HumanMessagePromptTemplate\n",
    "\n",
    "system_message_prompt = SystemMessagePromptTemplate.from_template(system_prompt)\n",
    "\n",
    "human_message_prompt = HumanMessagePromptTemplate.from_template(human_prompt)\n",
    "\n",
    "prompt = ChatPromptTemplate.from_messages([system_message_prompt , human_message_prompt])\n",
    "\n",
    "chain = prompt | llm | StrOutputParser()\n",
    "\n",
    "chain.invoke({\"user_question\":user_question})"
   ]
  },
  {
   "cell_type": "code",
   "execution_count": 7,
   "id": "a19d5aca",
   "metadata": {},
   "outputs": [],
   "source": [
    "def router_agent(state: State) -> State:\n",
    "    system_prompt = (\n",
    "        \"You are a routing assistant for a campus mental health system. Based on the user's input, determine which agent should handle it. \"\n",
    "        \"Classify the input and respond with one of the following: 'RAG', 'RISK', 'SUPPORT', 'RESOURCE', or 'PEER'. \"\n",
    "        \"- 'RAG': For informational queries about mental health or remedies (e.g., 'What is depression?', 'Remedies for anxiety'). \"\n",
    "        \"- 'RISK': For inputs indicating distress, crisis, or mental health concerns (e.g., 'I'm stressed', 'feeling anxious'). \"\n",
    "        \"- 'SUPPORT': For inputs requesting immediate help or conversation (e.g., 'I need someone to talk to'). \"\n",
    "        \"- 'RESOURCE': For inputs asking about campus resources, counselors, or helplines (e.g., 'Where can I get counseling?'). \"\n",
    "        \"- 'PEER': For inputs seeking peer support or community (e.g., 'I want to connect with others').\"\n",
    "    )\n",
    "\n",
    "    user_prompt = state.input\n",
    "\n",
    "    # Create chat prompt\n",
    "    system_template = SystemMessagePromptTemplate.from_template(\"{system_prompt}\")\n",
    "    user_template = HumanMessagePromptTemplate.from_template(\"{user_prompt}\")\n",
    "    final_template = ChatPromptTemplate.from_messages([system_template, user_template])\n",
    "\n",
    "    # Call LLM\n",
    "    chain = final_template | llm | StrOutputParser()\n",
    "    result = chain.invoke({\"system_prompt\": system_prompt, \"user_prompt\": user_prompt})\n",
    "\n",
    "    # Map LLM output to agent routes\n",
    "    route_map = {\n",
    "        \"RAG\": \"rag_knowledge_agent\",\n",
    "        \"RISK\": \"risk_assessment_agent\",\n",
    "        \"SUPPORT\": \"support_chat_agent\",\n",
    "        \"RESOURCE\": \"resource_coordinator_agent\",\n",
    "        \"PEER\": \"peer_connector_agent\"\n",
    "    }\n",
    "    route = route_map.get(result.upper(), \"support_chat_agent\")  # Default to support_chat_agent\n",
    "    return State(input=state.input, route=route, output=None)"
   ]
  },
  {
   "cell_type": "code",
   "execution_count": 8,
   "id": "c4065895",
   "metadata": {},
   "outputs": [],
   "source": [
    "def rag_knowledge_agent(state: State) -> State:\n",
    "    system_prompt = (\n",
    "        \"You are a knowledge agent for mental health information. Use the provided context from PDFs and scraped websites \"\n",
    "        \"to answer the user's query about mental health, remedies, or related topics. Provide clear, accurate, and concise \"\n",
    "        \"information. If the query is unclear, ask for clarification.\"\n",
    "    )\n",
    "    user_prompt = state.input\n",
    "    # Run RAG chain\n",
    "    result = rag_chain.invoke({\"query\": user_prompt})\n",
    "    output = result[\"result\"]\n",
    "    return State(input=state.input, route=state.route, output=output)"
   ]
  },
  {
   "cell_type": "code",
   "execution_count": 9,
   "id": "a94c3363",
   "metadata": {},
   "outputs": [],
   "source": [
    "def risk_assessment_agent(state: State) -> State:\n",
    "    system_prompt = (\n",
    "        \"You are a mental health risk assessment agent. Analyze the user's input for signs of distress, stress, or crisis. \"\n",
    "        \"Provide a concise assessment (e.g., 'High risk: Immediate support recommended') and suggest next steps. \"\n",
    "        \"Ensure responses are empathetic and avoid clinical diagnoses.\"\n",
    "    )\n",
    "    user_prompt = state.input\n",
    "    final_template = ChatPromptTemplate.from_messages([\n",
    "        SystemMessagePromptTemplate.from_template(\"{system_prompt}\"),\n",
    "        HumanMessagePromptTemplate.from_template(\"{user_prompt}\")\n",
    "    ])\n",
    "    chain = final_template | llm | StrOutputParser()\n",
    "    result = chain.invoke({\"system_prompt\": system_prompt, \"user_prompt\": user_prompt})\n",
    "    return State(input=state.input, route=state.route, output=result)"
   ]
  },
  {
   "cell_type": "code",
   "execution_count": 10,
   "id": "e305d492",
   "metadata": {},
   "outputs": [],
   "source": [
    "def support_chat_agent(state: State) -> State:\n",
    "    system_prompt = (\n",
    "        \"You are a supportive chatbot for students seeking mental health help. Provide empathetic, conversational responses \"\n",
    "        \"to offer immediate emotional support. Encourage the user and suggest reaching out to campus resources if needed. \"\n",
    "        \"Keep responses warm, non-judgmental, and confidential.\"\n",
    "    )\n",
    "    user_prompt = state.input\n",
    "    final_template = ChatPromptTemplate.from_messages([\n",
    "        SystemMessagePromptTemplate.from_template(\"{system_prompt}\"),\n",
    "        HumanMessagePromptTemplate.from_template(\"{user_prompt}\")\n",
    "    ])\n",
    "    chain = final_template | llm | StrOutputParser()\n",
    "    result = chain.invoke({\"system_prompt\": system_prompt, \"user_prompt\": user_prompt})\n",
    "    return State(input=state.input, route=state.route, output=result)"
   ]
  },
  {
   "cell_type": "code",
   "execution_count": 11,
   "id": "205d4573",
   "metadata": {},
   "outputs": [],
   "source": [
    "def resource_coordinator_agent(state: State) -> State:\n",
    "    system_prompt = (\n",
    "        \"You are a resource coordinator for campus mental health services. Based on the user's input, recommend specific \"\n",
    "        \"campus resources (e.g., counseling center, helplines, workshops) with clear contact details or next steps. \"\n",
    "        \"If no specific resources are known, suggest general options like 'Visit your campus counseling center'.\"\n",
    "    )\n",
    "    user_prompt = state.input\n",
    "    final_template = ChatPromptTemplate.from_messages([\n",
    "        SystemMessagePromptTemplate.from_template(\"{system_prompt}\"),\n",
    "        HumanMessagePromptTemplate.from_template(\"{user_prompt}\")\n",
    "    ])\n",
    "    chain = final_template | llm | StrOutputParser()\n",
    "    result = chain.invoke({\"system_prompt\": system_prompt, \"user_prompt\": user_prompt})\n",
    "    return State(input=state.input, route=state.route, output=result)"
   ]
  },
  {
   "cell_type": "code",
   "execution_count": 12,
   "id": "8419d317",
   "metadata": {},
   "outputs": [],
   "source": [
    "def peer_connector_agent(state: State) -> State:\n",
    "    system_prompt = (\n",
    "        \"You are a peer connector agent. Based on the user's input, suggest ways to connect with peer support groups or \"\n",
    "        \"individuals with similar experiences (e.g., student clubs, online forums). Provide actionable steps to join or \"\n",
    "        \"engage with these communities, ensuring inclusivity and sensitivity.\"\n",
    "    )\n",
    "    user_prompt = state.input\n",
    "    final_template = ChatPromptTemplate.from_messages([\n",
    "        SystemMessagePromptTemplate.from_template(\"{system_prompt}\"),\n",
    "        HumanMessagePromptTemplate.from_template(\"{user_prompt}\")\n",
    "    ])\n",
    "    chain = final_template | llm | StrOutputParser()\n",
    "    result = chain.invoke({\"system_prompt\": system_prompt, \"user_prompt\": user_prompt})\n",
    "    return State(input=state.input, route=state.route, output=result)"
   ]
  },
  {
   "cell_type": "code",
   "execution_count": 13,
   "id": "9cf257db",
   "metadata": {},
   "outputs": [],
   "source": [
    "def route_next(state: State):\n",
    "    return state.route  # Must return the node name as string"
   ]
  },
  {
   "cell_type": "code",
   "execution_count": 14,
   "id": "dcedb335",
   "metadata": {},
   "outputs": [],
   "source": [
    "# Initialize the graph\n",
    "graph = StateGraph(State)\n",
    "\n",
    "# Add nodes for each agent\n",
    "graph.add_node(\"router_agent\", router_agent)\n",
    "graph.add_node(\"rag_knowledge_agent\", rag_knowledge_agent)\n",
    "graph.add_node(\"risk_assessment_agent\", risk_assessment_agent)\n",
    "graph.add_node(\"support_chat_agent\", support_chat_agent)\n",
    "graph.add_node(\"resource_coordinator_agent\", resource_coordinator_agent)\n",
    "graph.add_node(\"peer_connector_agent\", peer_connector_agent)\n",
    "\n",
    "# Add conditional edges from router_agent\n",
    "graph.add_conditional_edges(\n",
    "    \"router_agent\",\n",
    "    route_next,\n",
    "    {\n",
    "        \"rag_knowledge_agent\": \"rag_knowledge_agent\",\n",
    "        \"risk_assessment_agent\": \"risk_assessment_agent\",\n",
    "        \"support_chat_agent\": \"support_chat_agent\",\n",
    "        \"resource_coordinator_agent\": \"resource_coordinator_agent\",\n",
    "        \"peer_connector_agent\": \"peer_connector_agent\"\n",
    "    }\n",
    ")\n",
    "\n",
    "# Add end edges for each agent\n",
    "graph.add_edge(\"rag_knowledge_agent\", END)\n",
    "graph.add_edge(\"risk_assessment_agent\", END)\n",
    "graph.add_edge(\"support_chat_agent\", END)\n",
    "graph.add_edge(\"resource_coordinator_agent\", END)\n",
    "graph.add_edge(\"peer_connector_agent\", END)\n",
    "\n",
    "# Set entry point\n",
    "graph.set_entry_point(\"router_agent\")\n",
    "\n",
    "# Compile the graph\n",
    "multi_agent_graph = graph.compile()"
   ]
  },
  {
   "cell_type": "code",
   "execution_count": 15,
   "id": "9f89fa7d",
   "metadata": {},
   "outputs": [],
   "source": [
    "multi_agent_graph = graph.compile()"
   ]
  },
  {
   "cell_type": "code",
   "execution_count": 16,
   "id": "62750351",
   "metadata": {},
   "outputs": [
    {
     "data": {
      "image/png": "[encoded data removed]",
      "text/plain": [
       "<langgraph.graph.state.CompiledStateGraph object at 0x000001D1773B1BD0>"
      ]
     },
     "execution_count": 16,
     "metadata": {},
     "output_type": "execute_result"
    }
   ],
   "source": [
    "multi_agent_graph"
   ]
  },
  {
   "cell_type": "code",
   "execution_count": 19,
   "id": "18052fe0",
   "metadata": {},
   "outputs": [],
   "source": [
    "def chat(user_input: str) -> State:\n",
    "    initial_state = State(input=user_input)\n",
    "    result = multi_agent_graph.invoke(initial_state)\n",
    "    return result"
   ]
  },
  {
   "cell_type": "code",
   "execution_count": 21,
   "id": "405daf19",
   "metadata": {},
   "outputs": [
    {
     "name": "stdout",
     "output_type": "stream",
     "text": [
      "{'input': 'What are some remedies for anxiety?', 'route': 'support_chat_agent', 'output': 'You\\'re looking for some remedies to help manage anxiety. That takes a lot of courage to acknowledge and seek out. I\\'m here to support you.\\n\\nFirstly, let\\'s talk about some self-care practices that can really help:\\n\\n1. **Deep breathing exercises**: When we\\'re anxious, our breathing tends to get shallow and rapid. Consciously taking slow, deep breaths can calm the nervous system.\\n2. **Physical activity**: Regular exercise, even just a short walk, can help reduce anxiety by releasing endorphins, also known as \"feel-good\" hormones.\\n3. **Mindfulness**: Focus on the present moment, without judgment. You can try meditation, yoga, or guided imagery to help calm your mind.\\n4. **Grounding techniques**: Use your senses to ground yourself in the present moment. For example, notice the sensation of your feet on the ground, the sounds around you, or the sensation of the air on your skin.\\n5. **Journaling**: Writing down your thoughts and feelings can help you process and release them. It\\'s like a digital \"brain dump\"!\\n\\nRemember, everyone is unique, so it\\'s essential to experiment and find what works best for you.\\n\\nIf you\\'re feeling overwhelmed, don\\'t hesitate to reach out to campus resources, like counseling services or a mental health hotline. They\\'re there to support you.\\n\\nWhat resonates with you, or is there something specific you\\'d like to try?'}\n",
      "{'input': \"I'm feeling really stressed and overwhelmed with exams.\", 'route': 'support_chat_agent', 'output': \"It's totally normal to feel that way, especially with exams looming. It's like your brain is trying to process a million things at once, and it can be really overwhelming. \\n\\nTake a deep breath with me for a second. Inhale slowly, hold it for a second, and then exhale slowly. Feel the air moving in and out of your body. That's a great start to calming down.\\n\\nRemember that you've got this! You've prepared well for your exams, and you're capable of doing your best. It's okay to feel stressed, but try not to let it consume you. You can break down your studying into smaller, manageable chunks, and take breaks when you need them.\\n\\nIf you feel like you're struggling to cope, it's always a good idea to reach out to your campus resources. They have amazing support services to help students manage stress and anxiety, including counseling services, academic support, and student organizations that can connect you with peers who are going through similar experiences.\\n\\nWould you like to talk more about what's stressing you out the most about your exams? Sometimes sharing your thoughts and feelings with someone who cares can help you feel a little more grounded.\"}\n",
      "{'input': 'I need someone to talk to right now.', 'route': 'support_chat_agent', 'output': \"I'm so glad you reached out. It takes a lot of courage to admit when we need someone to talk to. I'm here to listen and support you in any way I can. Whatever's going on, you're not alone, and I'm here to help you process your thoughts and feelings.\\n\\nTake a deep breath and know that you're safe here. No pressure, no expectations – just a listening ear and a supportive conversation. What's on your mind right now?\"}\n",
      "{'input': 'Where can I find a counselor on campus?', 'route': 'resource_coordinator_agent', 'output': 'You can find a counselor on campus by visiting the University Counseling Center (UCC) or Student Services department. Here are the steps to get in touch:\\n\\n1. Check your university\\'s website: Look for the counseling center or student services section to find contact information, hours of operation, and available services.\\n2. Visit the UCC website: Most universities have a dedicated website for their counseling center, which provides information on staff, services, and contact details.\\n3. Contact the UCC directly: You can reach out to the counseling center via phone, email, or in-person to schedule an appointment or ask questions.\\n\\nSome common contact details to look for:\\n\\n- Phone number: (123) 456-7890\\n- Email: [ucc@university.edu](mailto:ucc@university.edu)\\n- Physical address: Student Union Building, Room 101\\n- Online appointment scheduling: [ucc.university.edu/appointments](http://ucc.university.edu/appointments)\\n\\nDon\\'t hesitate to reach out for support. The counseling center is a safe and confidential space to discuss your concerns.\\n\\nAdditional resources:\\n\\n- National Alliance on Mental Illness (NAMI) Helpline: 1-800-950-6264 (Monday to Friday, 10 am to 6 pm EST)\\n- Crisis Text Line: Text \"HOME\" to 741741 (available 24/7)\\n\\nRemember, campus resources are available to support your mental health and well-being.'}\n",
      "{'input': 'I want to join a group to meet people going through similar stuff.', 'route': 'support_chat_agent', 'output': \"That's a great idea! Connecting with others who understand what you're going through can be such a powerful way to build support and feel less alone. There are many groups on campus that focus on mental health and wellness, and joining one can be a wonderful way to meet new people and make friends who share similar experiences.\\n\\nHave you considered talking to your university's counseling center or student life department to see what kind of groups are available? They often have groups for students dealing with anxiety, depression, or other mental health issues. Plus, they can help you find groups that fit your interests and schedule.\\n\\nRemember, it's okay to take things at your own pace and try out different groups until you find one that feels like a good fit for you. And if you ever need someone to talk to, I'm here for you too!\\n\\nWhat do you think might be important for you in a group - is it a specific focus (e.g. anxiety, creativity), a certain atmosphere (e.g. relaxed, structured), or something else?\"}\n"
     ]
    }
   ],
   "source": [
    "# Test with different inputs\n",
    "test_inputs = [\n",
    "    \"What are some remedies for anxiety?\",\n",
    "    \"I'm feeling really stressed and overwhelmed with exams.\",\n",
    "    \"I need someone to talk to right now.\",\n",
    "    \"Where can I find a counselor on campus?\",\n",
    "    \"I want to join a group to meet people going through similar stuff.\"\n",
    "]\n",
    "\n",
    "for input_text in test_inputs:\n",
    "    response_state = chat(input_text)\n",
    "    print(response_state)"
   ]
  },
  {
   "cell_type": "code",
   "execution_count": null,
   "id": "6df69712",
   "metadata": {},
   "outputs": [],
   "source": []
  }
 ],
 "metadata": {
  "kernelspec": {
   "display_name": "base",
   "language": "python",
   "name": "python3"
  },
  "language_info": {
   "codemirror_mode": {
    "name": "ipython",
    "version": 3
   },
   "file_extension": ".py",
   "mimetype": "text/x-python",
   "name": "python",
   "nbconvert_exporter": "python",
   "pygments_lexer": "ipython3",
   "version": "3.13.5"
  }
 },
 "nbformat": 4,
 "nbformat_minor": 5
}
